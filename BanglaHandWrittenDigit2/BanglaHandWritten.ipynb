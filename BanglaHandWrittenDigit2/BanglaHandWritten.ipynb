{
 "cells": [
  {
   "cell_type": "code",
   "execution_count": 19,
   "metadata": {},
   "outputs": [],
   "source": [
    "import tensorflow as tf\n",
    "import PIL\n",
    "from PIL import ImageDraw, Image\n",
    "from tkinter import *\n",
    "from keras.preprocessing import image\n",
    "from keras.models import Sequential\n",
    "import os\n",
    "# from keras.preprocessing.image import ImageDataGenerator\n",
    "# from PIL.ImageFile import ImageFile\n",
    "\n",
    "# from Train import training_set"
   ]
  },
  {
   "cell_type": "code",
   "execution_count": 6,
   "metadata": {},
   "outputs": [],
   "source": [
    "# Creating a graphical user interface to draw the character\n",
    "def create_new_image():\n",
    "    width = 256\n",
    "    height = 256\n",
    "    center = height // 2\n",
    "    white = (255, 255, 255)\n",
    "    green = (0, 128, 0)\n",
    "\n",
    "    def save():\n",
    "        filename = 'BanglaHandwrittenDataset/SinglePrediction/image.jpg'\n",
    "        image.save(filename)\n",
    "        \n",
    "    def paint(event):\n",
    "        x1, y1 = (event.x - 1), (event.y - 1)\n",
    "        x2, y2 = (event.x + 1), (event.y + 1)\n",
    "        cv.create_oval(x1, y1, x2, y2, fill='black', width=30)\n",
    "        draw.line([x1, y1, x2, y2], fill='black', width=30)\n",
    "\n",
    "    root = Tk()\n",
    "\n",
    "    cv = Canvas(root, width=width, height=height, bg='white')\n",
    "    cv.pack()\n",
    "\n",
    "    image = PIL.Image.new('RGB', (width, height), white)\n",
    "    draw = ImageDraw.Draw(image)\n",
    "\n",
    "    cv.pack(expand=YES, fill=BOTH)\n",
    "    cv.bind(\"<B1-Motion>\", paint)\n",
    "\n",
    "    button = Button(text='Save Image', command=save)\n",
    "    button.pack()\n",
    "\n",
    "    root.mainloop()"
   ]
  },
  {
   "cell_type": "code",
   "execution_count": 7,
   "metadata": {},
   "outputs": [],
   "source": [
    "create_new_image()"
   ]
  },
  {
   "cell_type": "code",
   "execution_count": null,
   "metadata": {},
   "outputs": [],
   "source": [
    "training_set.class_indices"
   ]
  },
  {
   "cell_type": "code",
   "execution_count": 8,
   "metadata": {},
   "outputs": [],
   "source": [
    "def determine_character(res):\n",
    "    if res == 0:\n",
    "        print('prediction : অ')\n",
    "    elif res == 1:\n",
    "        print('prediction : আ')\n",
    "    elif res == 2:\n",
    "        print('prediction : ই')\n",
    "    elif res == 3:\n",
    "        print('prediction : ঈ')\n",
    "    elif res == 4:\n",
    "        print('prediction : উ')\n",
    "    elif res == 5:\n",
    "        print('prediction : ঊ')\n",
    "    elif res == 6:\n",
    "        print('prediction : ঋ')\n",
    "    elif res == 7:\n",
    "        print('prediction : এ')\n",
    "    elif res == 8:\n",
    "        print('prediction : ঐ')\n",
    "    elif res == 9:\n",
    "        print('prediction : ও')\n",
    "    elif res == 10:\n",
    "        print('prediction : ঔ')\n",
    "    elif res == 11:\n",
    "        print('prediction : ক')\n",
    "    elif res == 12:\n",
    "        print('prediction : খ')\n",
    "    elif res == 13:\n",
    "        print('prediction : গ')\n",
    "    elif res == 14:\n",
    "        print('prediction : ঘ')\n",
    "    elif res == 15:\n",
    "        print('prediction : ঙ')\n",
    "    elif res == 16:\n",
    "        print('prediction : চ')\n",
    "    elif res == 17:\n",
    "        print('prediction : ছ')\n",
    "    elif res == 18:\n",
    "        print('prediction : জ')\n",
    "    elif res == 19:\n",
    "        print('prediction : ঝ')\n",
    "    elif res == 20:\n",
    "        print('prediction : ঞ')\n",
    "    elif res == 21:\n",
    "        print('prediction : ট')\n",
    "    elif res == 22:\n",
    "        print('prediction : ঠ')\n",
    "    elif res == 23:\n",
    "        print('prediction : ড')\n",
    "    elif res == 24:\n",
    "        print('prediction : ঢ')\n",
    "    elif res == 25:\n",
    "        print('prediction : ণ')\n",
    "    elif res == 26:\n",
    "        print('prediction : ত')\n",
    "    elif res == 27:\n",
    "        print('prediction : থ')\n",
    "    elif res == 28:\n",
    "        print('prediction : দ')\n",
    "    elif res == 29:\n",
    "        print('prediction : ধ')\n",
    "    elif res == 30:\n",
    "        print('prediction : ন')\n",
    "    elif res == 31:\n",
    "        print('prediction : প')\n",
    "    elif res == 32:\n",
    "        print('prediction : ফ')\n",
    "    elif res == 33:\n",
    "        print('prediction : ব')\n",
    "    elif res == 34:\n",
    "        print('prediction : ভ')\n",
    "    elif res == 35:\n",
    "        print('prediction : ম')\n",
    "    elif res == 36:\n",
    "        print('prediction : য')\n",
    "    elif res == 37:\n",
    "        print('prediction : র')\n",
    "    elif res == 38:\n",
    "        print('prediction : ল')\n",
    "    elif res == 39:\n",
    "        print('prediction : শ')\n",
    "    elif res == 40:\n",
    "        print('prediction : ষ')\n",
    "    elif res == 41:\n",
    "        print('prediction : স')\n",
    "    elif res == 42:\n",
    "        print('prediction : হ')\n",
    "    elif res == 43:\n",
    "        print('prediction : ড়')\n",
    "    elif res == 44:\n",
    "        print('prediction : ঢ়')\n",
    "    elif res == 45:\n",
    "        print('prediction : য়')\n",
    "    elif res == 46:\n",
    "        print('prediction : ৎ')\n",
    "    elif res == 47:\n",
    "        print('prediction : ং')\n",
    "    elif res == 48:\n",
    "        print('prediction : ঃ')\n",
    "    else:\n",
    "        print('prediction : ঁ')"
   ]
  },
  {
   "cell_type": "code",
   "execution_count": 17,
   "metadata": {},
   "outputs": [],
   "source": [
    "import numpy as np\n",
    "classifier = Sequential()\n",
    "\n",
    "def single_prediction(test_img):\n",
    "    test_img_arr = image.img_to_array(test_img)\n",
    "    test_img_arr = np.expand_dims(test_img_arr, axis=0)\n",
    "    prediction = classifier.predict(test_img_arr)\n",
    "    result = np.argmax(prediction, axis=1)\n",
    "    determine_character(result)"
   ]
  },
  {
   "cell_type": "code",
   "execution_count": 10,
   "metadata": {},
   "outputs": [],
   "source": [
    "def delete_created_image():\n",
    "        os.remove('BanglaHandwrittenDataset/SinglePrediction/image.jpg')"
   ]
  },
  {
   "cell_type": "code",
   "execution_count": 20,
   "metadata": {},
   "outputs": [],
   "source": [
    "import tensorflow as tf\n",
    "from tensorflow.keras.preprocessing import image\n",
    "import matplotlib.pyplot as plt\n",
    "\n",
    "def draw_n_guess_the_character():\n",
    "    create_new_image()\n",
    "    # test_img = image.load_img('ML Projects/BanglaHandWrittenDigit2/BanglaHandwrittenDataset/SinglePrediction/image.jpg', target_size=(40, 40, 3))\n",
    "    test_img = image.load_img('BanglaHandwrittenDataset/SinglePrediction/image.jpg', target_size=(40, 40, 3))\n",
    "    single_prediction(test_img)\n",
    "    plt.imshow(test_img)\n",
    "    delete_created_image()"
   ]
  },
  {
   "cell_type": "code",
   "execution_count": 21,
   "metadata": {},
   "outputs": [
    {
     "name": "stdout",
     "output_type": "stream",
     "text": [
      "1/1 [==============================] - 0s 338ms/step\n"
     ]
    },
    {
     "ename": "ValueError",
     "evalue": "The truth value of an array with more than one element is ambiguous. Use a.any() or a.all()",
     "output_type": "error",
     "traceback": [
      "\u001b[1;31m---------------------------------------------------------------------------\u001b[0m",
      "\u001b[1;31mValueError\u001b[0m                                Traceback (most recent call last)",
      "Cell \u001b[1;32mIn[21], line 1\u001b[0m\n\u001b[1;32m----> 1\u001b[0m draw_n_guess_the_character()\n",
      "Cell \u001b[1;32mIn[20], line 9\u001b[0m, in \u001b[0;36mdraw_n_guess_the_character\u001b[1;34m()\u001b[0m\n\u001b[0;32m      7\u001b[0m \u001b[39m# test_img = image.load_img('ML Projects/BanglaHandWrittenDigit2/BanglaHandwrittenDataset/SinglePrediction/image.jpg', target_size=(40, 40, 3))\u001b[39;00m\n\u001b[0;32m      8\u001b[0m test_img \u001b[39m=\u001b[39m image\u001b[39m.\u001b[39mload_img(\u001b[39m'\u001b[39m\u001b[39mBanglaHandwrittenDataset/SinglePrediction/image.jpg\u001b[39m\u001b[39m'\u001b[39m, target_size\u001b[39m=\u001b[39m(\u001b[39m40\u001b[39m, \u001b[39m40\u001b[39m, \u001b[39m3\u001b[39m))\n\u001b[1;32m----> 9\u001b[0m single_prediction(test_img)\n\u001b[0;32m     10\u001b[0m plt\u001b[39m.\u001b[39mimshow(test_img)\n\u001b[0;32m     11\u001b[0m delete_created_image()\n",
      "Cell \u001b[1;32mIn[17], line 9\u001b[0m, in \u001b[0;36msingle_prediction\u001b[1;34m(test_img)\u001b[0m\n\u001b[0;32m      7\u001b[0m prediction \u001b[39m=\u001b[39m classifier\u001b[39m.\u001b[39mpredict(test_img_arr)\n\u001b[0;32m      8\u001b[0m result \u001b[39m=\u001b[39m np\u001b[39m.\u001b[39margmax(prediction, axis\u001b[39m=\u001b[39m\u001b[39m1\u001b[39m)\n\u001b[1;32m----> 9\u001b[0m determine_character(result)\n",
      "Cell \u001b[1;32mIn[8], line 2\u001b[0m, in \u001b[0;36mdetermine_character\u001b[1;34m(res)\u001b[0m\n\u001b[0;32m      1\u001b[0m \u001b[39mdef\u001b[39;00m \u001b[39mdetermine_character\u001b[39m(res):\n\u001b[1;32m----> 2\u001b[0m     \u001b[39mif\u001b[39;00m res \u001b[39m==\u001b[39m \u001b[39m0\u001b[39m:\n\u001b[0;32m      3\u001b[0m         \u001b[39mprint\u001b[39m(\u001b[39m'\u001b[39m\u001b[39mprediction : অ\u001b[39m\u001b[39m'\u001b[39m)\n\u001b[0;32m      4\u001b[0m     \u001b[39melif\u001b[39;00m res \u001b[39m==\u001b[39m \u001b[39m1\u001b[39m:\n",
      "\u001b[1;31mValueError\u001b[0m: The truth value of an array with more than one element is ambiguous. Use a.any() or a.all()"
     ]
    }
   ],
   "source": [
    "draw_n_guess_the_character()"
   ]
  }
 ],
 "metadata": {
  "kernelspec": {
   "display_name": "Python 3",
   "language": "python",
   "name": "python3"
  },
  "language_info": {
   "codemirror_mode": {
    "name": "ipython",
    "version": 3
   },
   "file_extension": ".py",
   "mimetype": "text/x-python",
   "name": "python",
   "nbconvert_exporter": "python",
   "pygments_lexer": "ipython3",
   "version": "3.11.3"
  },
  "orig_nbformat": 4
 },
 "nbformat": 4,
 "nbformat_minor": 2
}
